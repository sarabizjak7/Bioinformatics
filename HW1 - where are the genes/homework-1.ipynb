{
 "cells": [
  {
   "cell_type": "code",
   "execution_count": 1,
   "metadata": {},
   "outputs": [],
   "source": [
    "import numpy as np\n",
    "from Bio import Entrez"
   ]
  },
  {
   "cell_type": "code",
   "execution_count": 2,
   "metadata": {},
   "outputs": [],
   "source": [
    "import matplotlib\n",
    "import matplotlib.pyplot as plt\n",
    "\n",
    "matplotlib.rcParams[\"legend.frameon\"] = False\n",
    "%matplotlib inline"
   ]
  },
  {
   "cell_type": "markdown",
   "metadata": {},
   "source": [
    "Let's let the nice folks at NCBI know who we are."
   ]
  },
  {
   "cell_type": "code",
   "execution_count": 3,
   "metadata": {},
   "outputs": [],
   "source": [
    "Entrez.email = \"sarabizjak97@gmail.com\"\n",
    "# \"sara.bizjak@student.fmf.uni-lj.si\""
   ]
  },
  {
   "cell_type": "code",
   "execution_count": 4,
   "metadata": {},
   "outputs": [],
   "source": [
    "# In order to import from the python file without hassle, we add the current\n",
    "# directory to the python path\n",
    "import sys\n",
    "sys.path.append(\".\")\n",
    "from helper_functions import load, extract_gt_orfs, find_all_orfs, translate_to_protein"
   ]
  },
  {
   "cell_type": "markdown",
   "metadata": {},
   "source": [
    "# Paramecium tetraurelia\n",
    "\n",
    "Paramecia are unicellular organisms, which move around using cilia. Cilia are like little hairs attached to the cell membrane, which the animal can vibrate to move around.\n",
    "\n",
    "![](https://upload.wikimedia.org/wikipedia/commons/b/bd/Инфузория_туфелька_поедает_бактерии%21.gif)\n",
    "\n",
    "Paramecia are widespread in freshwater, brackish, and marine environments and are often very abundant in stagnant basins and ponds. If you want, you can read more about them on [Wikipedia](https://en.wikipedia.org/wiki/Paramecium).\n",
    "\n",
    "This is a model organism, meaning it has been very throughoutly studied. We're going to see how many genes we can identify ourselves and compare that to the true gene annotations."
   ]
  },
  {
   "cell_type": "code",
   "execution_count": 5,
   "metadata": {},
   "outputs": [],
   "source": [
    "organism_id = \"NC_006058\"  # Paramecium tetraurelia"
   ]
  },
  {
   "cell_type": "code",
   "execution_count": 6,
   "metadata": {},
   "outputs": [],
   "source": [
    "start_codons = [\"ATG\"]\n",
    "stop_codons = [\"TGA\"]"
   ]
  },
  {
   "cell_type": "markdown",
   "metadata": {},
   "source": [
    "Fetch the Paramecium genome from NCBI."
   ]
  },
  {
   "cell_type": "code",
   "execution_count": 7,
   "metadata": {},
   "outputs": [
    {
     "data": {
      "text/plain": [
       "SeqRecord(seq=Seq('GTTTATATTTTTACACTGTTTCCATCCTTATTTTCAAAAAAAAATTTACAATTT...CTT'), id='NC_006058.1', name='NC_006058', description='Paramecium tetraurelia macronuclear, complete genome', dbxrefs=['Project:12726', 'BioProject:PRJNA12726'])"
      ]
     },
     "execution_count": 7,
     "metadata": {},
     "output_type": "execute_result"
    }
   ],
   "source": [
    "record = load(organism_id)\n",
    "record"
   ]
  },
  {
   "cell_type": "markdown",
   "metadata": {},
   "source": [
    "How long is the genome?"
   ]
  },
  {
   "cell_type": "code",
   "execution_count": 8,
   "metadata": {},
   "outputs": [
    {
     "name": "stdout",
     "output_type": "stream",
     "text": [
      "984,602 bases\n"
     ]
    }
   ],
   "source": [
    "print(\"{:,} bases\".format(len(record.seq)))"
   ]
  },
  {
   "cell_type": "markdown",
   "metadata": {},
   "source": [
    "## Problem 1\n",
    "\n",
    "Find all the open reading frames (ORFs) in the genome. We define an ORF to be the longest contiguous sequence of triplets (codons) between a start and a stop codon. \n",
    "\n",
    "**TASK:**\n",
    "Implement the `find_orfs` and `find_all_orfs` functions in `helper_functions.py`. You can verify your implementation against the provided unit tests (your code will be run against different examples for grading). `find_orfs` should find ORFs for a single offset e.g. [ATGTAATGTTGATTA]TG, ignoring the final TG. `find_all_orfs` should use `find_orfs` to find _all_ the ORFs in a sequence, i.e. [ATGTAATGTTGATTA]TG, A[TGTAATGTTGATTAT]G, AT[GTAATGTTGATTATG], as well as the ORFs on the reverse complements. See the docstrings and unit tests in `test_helper_functions.py` for expected return types.\n",
    "\n",
    "Once you have implemented your ORF finder, return to this notebook. In the following cells, you will find the ORFs for the Paramecium tetraurelia genome."
   ]
  },
  {
   "cell_type": "code",
   "execution_count": 9,
   "metadata": {},
   "outputs": [
    {
     "name": "stdout",
     "output_type": "stream",
     "text": [
      "Finding ORFs using start/stop codons...\n",
      "16646 ORF candidates found\n"
     ]
    }
   ],
   "source": [
    "print(\"Finding ORFs using start/stop codons...\")\n",
    "orf_candidates = find_all_orfs(record.seq, start_codons, stop_codons)\n",
    "print(f\"{len(orf_candidates)} ORF candidates found\")"
   ]
  },
  {
   "cell_type": "code",
   "execution_count": 10,
   "metadata": {},
   "outputs": [],
   "source": [
    "orf_length = np.array([c[2] - c[1] for c in orf_candidates]) / 3  # divide by 3 for codons"
   ]
  },
  {
   "cell_type": "code",
   "execution_count": 11,
   "metadata": {},
   "outputs": [
    {
     "data": {
      "image/png": "[encoded data removed]",
      "text/plain": [
       "<Figure size 864x432 with 2 Axes>"
      ]
     },
     "metadata": {
      "needs_background": "light"
     },
     "output_type": "display_data"
    }
   ],
   "source": [
    "fig, ax = plt.subplots(nrows=2, figsize=(12, 6), sharex=True)\n",
    "hist_kwargs = dict(bins=list(range(0, 4000, 100)), edgecolor=\"k\", lw=1.2)\n",
    "for ax_ in ax.ravel():\n",
    "    ax_.hist(orf_length, color=\"tab:blue\", label=\"Predicted\", **hist_kwargs)\n",
    "    ax_.set_xlabel(\"Number of codons\"), ax_.set_ylabel(\"Frequency\")\n",
    "    ax_.legend()\n",
    "ax[1].set_yscale(\"log\")\n",
    "plt.tight_layout();"
   ]
  },
  {
   "cell_type": "markdown",
   "metadata": {},
   "source": [
    "In the top figure, we can immediately notice that almost all of our ORFs are very short. We can plot the same data on a log scale so we can see how long some ORFs really are."
   ]
  },
  {
   "cell_type": "markdown",
   "metadata": {},
   "source": [
    "## Problem 2\n",
    "\n",
    "As we said in the beginning, Paramecium tetraurelia is a well studied organism, so we can check how many of our predicted ORFs are actually real genes."
   ]
  },
  {
   "cell_type": "code",
   "execution_count": 12,
   "metadata": {},
   "outputs": [
    {
     "name": "stdout",
     "output_type": "stream",
     "text": [
      "Extracting ORFs from NCBI annotation...\n",
      "100 ground truth ORFs found\n"
     ]
    }
   ],
   "source": [
    "print(\"Extracting ORFs from NCBI annotation...\")\n",
    "orfs_gt = extract_gt_orfs(record, start_codons, stop_codons, verbose=False)\n",
    "print(f\"{len(orfs_gt)} ground truth ORFs found\")"
   ]
  },
  {
   "cell_type": "code",
   "execution_count": 13,
   "metadata": {},
   "outputs": [],
   "source": [
    "gt_orf_length = np.array([c[2] - c[1] for c in orfs_gt]) / 3"
   ]
  },
  {
   "cell_type": "code",
   "execution_count": 14,
   "metadata": {},
   "outputs": [
    {
     "data": {
      "image/png": "[encoded data removed]",
      "text/plain": [
       "<Figure size 864x288 with 1 Axes>"
      ]
     },
     "metadata": {
      "needs_background": "light"
     },
     "output_type": "display_data"
    }
   ],
   "source": [
    "fig, ax = plt.subplots(figsize=(12, 4))\n",
    "ax.hist(orf_length, color=\"tab:blue\", label=\"Predicted\", **hist_kwargs)\n",
    "ax.hist(gt_orf_length, color=\"tab:orange\", label=\"Ground truth\", **hist_kwargs)\n",
    "ax.set_xlabel(\"Number of codons\"), ax.set_ylabel(\"Frequency\")\n",
    "ax.set_yscale(\"log\")\n",
    "plt.legend();"
   ]
  },
  {
   "cell_type": "markdown",
   "metadata": {},
   "source": [
    "**TASK:**\n",
    "Plot the precision/recall/F1 curves for different thresholds into a single figure and save the result to `problem2.png`. Determine a threshold for the ORF length and save your answers into the `bacteria_threshold` and `bacteria_reason` variables.\n",
    "\n",
    "In practice, biologists will mostly look through each ORF manually to determine if it is a gene or not. We want to help them by eliminating ORFs that are probably too short to be a gene, but still keep most of the ORFs that actually code for genes. "
   ]
  },
  {
   "cell_type": "code",
   "execution_count": 17,
   "metadata": {
    "collapsed": true,
    "jupyter": {
     "outputs_hidden": true,
     "source_hidden": true
    }
   },
   "outputs": [
    {
     "name": "stdout",
     "output_type": "stream",
     "text": [
      "TP :54\n",
      "FP :16592\n",
      "FN :46\n",
      "precision: 0.0032440225880091315\n",
      "recall: 0.54\n",
      "F1: 0.006449301325689717\n"
     ]
    }
   ],
   "source": [
    "# CHECK TP, FP, FN for th = 0\n",
    "\n",
    "# orf_candidates -> Predicted\n",
    "# orfs_gt -> Actual\n",
    "\n",
    "TP = 0\n",
    "FP = 0\n",
    "FN = 0\n",
    "\n",
    "# Counting TP -> Actual YES, Predicted YES\n",
    "for gt in orfs_gt:\n",
    "    if gt in orf_candidates:\n",
    "        TP += 1\n",
    "        \n",
    "# Counting FP -> Actual NO, Predicted YES\n",
    "for candidate in orf_candidates:\n",
    "    if candidate not in orfs_gt:\n",
    "        FP += 1\n",
    "\n",
    "# Counting FN -> Actual YES, Predicted NO\n",
    "for gt in orfs_gt:\n",
    "    if gt not in orf_candidates:\n",
    "        FN += 1\n",
    "        \n",
    "print(\"TP :\" + str(TP))\n",
    "print(\"FP :\" + str(FP))\n",
    "print(\"FN :\" + str(FN))\n",
    "\n",
    "precision = TP / (TP + FP)\n",
    "recall = TP / (TP + FN)\n",
    "F1 = ( 2 * precision * recall) / (precision + recall)\n",
    "\n",
    "print(\"precision: \" + str(precision))\n",
    "print(\"recall: \" + str(recall))\n",
    "print(\"F1: \" + str(F1))"
   ]
  },
  {
   "cell_type": "code",
   "execution_count": 18,
   "metadata": {},
   "outputs": [],
   "source": [
    "# FUNCTIONS for lists of candidates and actuals > THRESHOLD\n",
    "\n",
    "# CANDIDATES: orf_candidates -> orf_length\n",
    "# ACTUALS: orfs_gt -> gt_orf_length\n",
    "\n",
    "def make_predicted_list(predicted, th):\n",
    "    \"\"\" Returns a list with ORF candidates with len > threshold. \"\"\"\n",
    "    pred_list = []\n",
    "    for i in range(len(predicted)):\n",
    "        if orf_length[i] > th:\n",
    "            pred_list.append(predicted[i])\n",
    "    return pred_list \n",
    "        \n",
    "### TP ### FP ### FN ###\n",
    "\n",
    "def counting_TP(predicted, actual, th):\n",
    "    \"\"\" Returns TP value for selected threshold. \"\"\"\n",
    "    TP = 0\n",
    "    # Threshold\n",
    "    predicted_th = make_predicted_list(predicted, th)  \n",
    "    # Counting TP -> Actual YES, Predicted YES\n",
    "    for act in actual:\n",
    "        if act in predicted_th:\n",
    "            TP += 1\n",
    "    return TP\n",
    "     \n",
    "def counting_FP(predicted, actual, th):\n",
    "    \"\"\" Returns FP value for selected threshold. \"\"\"\n",
    "    FP = 0\n",
    "    # Threshold\n",
    "    predicted_th = make_predicted_list(predicted, th) \n",
    "    # Counting FP -> Actual NO, Predicted YES\n",
    "    for pred in predicted_th:\n",
    "        if pred not in actual:\n",
    "            FP += 1\n",
    "    return FP\n",
    "       \n",
    "def counting_FN(predicted, actual, th):\n",
    "    \"\"\" Returns FN value for selected threshold. \"\"\"\n",
    "    FN = 0\n",
    "    # Threshold\n",
    "    predicted_th = make_predicted_list(predicted, th)\n",
    "    # Counting FN -> Actual YES, Predicted NO\n",
    "    for act in actual:\n",
    "        if act not in predicted_th:\n",
    "            FN += 1\n",
    "    return FN\n",
    "\n",
    "### PRECISION ### RECALL ### F1 ###\n",
    "\n",
    "def calculating_pre_rec_f1(predicted, actual, th):\n",
    "    \"\"\" Returns a list [precision, recall, F1] for selected th. \"\"\"\n",
    "    # TP, FP, FN\n",
    "    TP = counting_TP(predicted, actual, th)\n",
    "    FP = counting_FP(predicted, actual, th)\n",
    "    FN = counting_FN(predicted, actual, th)\n",
    "    # precision, recall, F1\n",
    "    if TP + FP != 0:\n",
    "        precision = TP / (TP + FP)\n",
    "    else:\n",
    "        precision = 0\n",
    "    if TP + FN != 0:\n",
    "        recall = TP / (TP + FN)\n",
    "    else:\n",
    "        recall = 0\n",
    "    if precision + recall != 0:\n",
    "        F1 = ( 2 * precision * recall) / (precision + recall)\n",
    "    else:\n",
    "        F1 = 0\n",
    "    \n",
    "    return [precision, recall, F1]\n"
   ]
  },
  {
   "cell_type": "code",
   "execution_count": 19,
   "metadata": {
    "collapsed": true,
    "jupyter": {
     "outputs_hidden": true,
     "source_hidden": true
    }
   },
   "outputs": [
    {
     "data": {
      "text/plain": [
       "[0.0032440225880091315, 0.54, 0.006449301325689717]"
      ]
     },
     "execution_count": 19,
     "metadata": {},
     "output_type": "execute_result"
    }
   ],
   "source": [
    "calculating_pre_rec_f1(orf_candidates, orfs_gt, 0)"
   ]
  },
  {
   "cell_type": "code",
   "execution_count": 20,
   "metadata": {},
   "outputs": [
    {
     "name": "stdout",
     "output_type": "stream",
     "text": [
      "470\n"
     ]
    }
   ],
   "source": [
    "### PREPARING DATA FOR PLOTTING\n",
    "\n",
    "# X : th\n",
    "# Y : pre, rec, f1\n",
    "\n",
    "x_th = []\n",
    "y_pre = []\n",
    "y_rec = []\n",
    "y_f1 = []\n",
    "\n",
    "for i in range(0, 2000, 10):\n",
    "    x_th.append(i)\n",
    "    p, r, f = calculating_pre_rec_f1(orf_candidates, orfs_gt, i)\n",
    "    y_pre.append(p)\n",
    "    y_rec.append(r)\n",
    "    y_f1.append(f)\n",
    "    \n",
    "    # Threshold for max f1: \n",
    "    if f == 0.14545454545454545:\n",
    "        print(i)"
   ]
  },
  {
   "cell_type": "code",
   "execution_count": 21,
   "metadata": {
    "collapsed": true,
    "jupyter": {
     "outputs_hidden": true,
     "source_hidden": true
    }
   },
   "outputs": [
    {
     "data": {
      "text/plain": [
       "0.14545454545454545"
      ]
     },
     "execution_count": 21,
     "metadata": {},
     "output_type": "execute_result"
    }
   ],
   "source": [
    "max(y_f1)"
   ]
  },
  {
   "cell_type": "code",
   "execution_count": 22,
   "metadata": {},
   "outputs": [
    {
     "data": {
      "image/png": "[encoded data removed]",
      "text/plain": [
       "<Figure size 432x288 with 1 Axes>"
      ]
     },
     "metadata": {
      "needs_background": "light"
     },
     "output_type": "display_data"
    }
   ],
   "source": [
    "plt.plot(x_th, y_pre, label = 'Precision', color = 'blue')\n",
    "plt.plot(x_th, y_rec, label = 'Recall', color = 'orange')\n",
    "plt.plot(x_th, y_f1, label = 'F1', color = 'green')\n",
    "plt.xlabel('Threshold')\n",
    "plt.legend()\n",
    "#plt.show()\n",
    "plt.savefig(\"problem2.png\")"
   ]
  },
  {
   "cell_type": "code",
   "execution_count": 23,
   "metadata": {},
   "outputs": [],
   "source": [
    "bacteria_threshold = 470\n",
    "bacteria_reason = \"\"\"\n",
    "Precission tells us how many selected items are relevant and recall tells us how many relevant items are selected, so we want to maximize both of them.\n",
    "F1 score is the harmonic mean of the precision and recall, so we actually observe F1 curve, \n",
    "because with maximizing F1 curve we maximize both precission and recall at the same time. \n",
    "We found out that we want to capture the highest F1 value on the graph, which is at 0.14545454545454545 for threshold 470. \n",
    "So we choose 470 to be our best threshold (note that step for generating different thresholds is 10, so my result probably deviates \n",
    "from the correct maximum of F1 curve).\n",
    "\"\"\""
   ]
  },
  {
   "cell_type": "markdown",
   "metadata": {},
   "source": [
    "# SARS-CoV-2\n",
    "\n",
    "SARS-CoV-2 is the prolific virus which causes the COVID-19 disease. I am sure most of you are well aware of what the disease does, so we'll skip any long-winded introduction. Instead, we'll jump straight into the genome of this pesky little virus.\n",
    "\n",
    "![](https://www.klinika-golnik.si/storage/_sites/golnik/app/media/Novice/cov-19.jpg)"
   ]
  },
  {
   "cell_type": "markdown",
   "metadata": {},
   "source": [
    "We again obtain the viral genome from NCBI."
   ]
  },
  {
   "cell_type": "code",
   "execution_count": 24,
   "metadata": {},
   "outputs": [],
   "source": [
    "organism_id = \"NC_045512\"  # SARS-CoV-2"
   ]
  },
  {
   "cell_type": "code",
   "execution_count": 25,
   "metadata": {},
   "outputs": [
    {
     "data": {
      "text/plain": [
       "SeqRecord(seq=Seq('ATTAAAGGTTTATACCTTCCCAGGTAACAAACCAACCAACTTTCGATCTCTTGT...AAA'), id='NC_045512.2', name='NC_045512', description='Severe acute respiratory syndrome coronavirus 2 isolate Wuhan-Hu-1, complete genome', dbxrefs=['BioProject:PRJNA485481'])"
      ]
     },
     "execution_count": 25,
     "metadata": {},
     "output_type": "execute_result"
    }
   ],
   "source": [
    "record = load(organism_id)\n",
    "record"
   ]
  },
  {
   "cell_type": "code",
   "execution_count": 26,
   "metadata": {},
   "outputs": [],
   "source": [
    "start_codons = [\"ATG\"]\n",
    "stop_codons = [\"TAA\", \"TAG\", \"TGA\"]"
   ]
  },
  {
   "cell_type": "code",
   "execution_count": 27,
   "metadata": {},
   "outputs": [
    {
     "name": "stdout",
     "output_type": "stream",
     "text": [
      "29,903 bases\n"
     ]
    }
   ],
   "source": [
    "print(\"{:,} bases\".format(len(record.seq)))"
   ]
  },
  {
   "cell_type": "markdown",
   "metadata": {},
   "source": [
    "## Problem 3\n",
    "\n",
    "_You_ are now the biologist. This time we have no ground truth annotations about SARS-CoV-2 from NCBI, so it is up to you to find the genes and try to determine what each gene does.\n",
    "\n",
    "**TASK:**\n",
    "Run your ORF finder on the SARS-CoV-2 genome. Plot the distribution of ORF lengths (log-scale), similarily to what we did for Paramecium tetraurelia, and save the result to `problem3.png`. Determine a threshold on ORF lengths, and filter the number of ORFs to something you find acceptable. Save your answer into the `covid_threshold` variable. You will have to inspect each sequence manually in the next problem, so set it to something reasonable. We don't want you to spend 10 hours staring at gene descriptions."
   ]
  },
  {
   "cell_type": "code",
   "execution_count": 28,
   "metadata": {},
   "outputs": [
    {
     "name": "stdout",
     "output_type": "stream",
     "text": [
      "Finding ORFs using start/stop codons...\n",
      "711 ORF candidates found\n",
      "329 1 ORF candidates found\n",
      "382 - 1 ORF candidates found\n"
     ]
    }
   ],
   "source": [
    "print(\"Finding ORFs using start/stop codons...\")\n",
    "orf_candidates = find_all_orfs(record.seq, start_codons, stop_codons)\n",
    "print(f\"{len(orf_candidates)} ORF candidates found\")\n",
    "\n",
    "plus = []\n",
    "minus = []\n",
    "for c in orf_candidates:\n",
    "    if c[0] == 1:\n",
    "        plus.append(c)\n",
    "    else:\n",
    "        minus.append(c)\n",
    "        \n",
    "print(f\"{len(plus)} 1 ORF candidates found\")\n",
    "print(f\"{len(minus)} - 1 ORF candidates found\")"
   ]
  },
  {
   "cell_type": "code",
   "execution_count": 29,
   "metadata": {},
   "outputs": [],
   "source": [
    "orf_length = np.array([c[2] - c[1] for c in orf_candidates]) / 3  # divide by 3 for codons"
   ]
  },
  {
   "cell_type": "code",
   "execution_count": 30,
   "metadata": {
    "collapsed": true,
    "jupyter": {
     "outputs_hidden": true,
     "source_hidden": true
    }
   },
   "outputs": [
    {
     "data": {
      "image/png": "[encoded data removed]",
      "text/plain": [
       "<Figure size 864x432 with 2 Axes>"
      ]
     },
     "metadata": {
      "needs_background": "light"
     },
     "output_type": "display_data"
    }
   ],
   "source": [
    "fig, ax = plt.subplots(nrows=2, figsize=(12, 6), sharex=True)\n",
    "hist_kwargs = dict(bins=list(range(0, 4000, 100)), edgecolor=\"k\", lw=1.2)\n",
    "for ax_ in ax.ravel():\n",
    "    ax_.hist(orf_length, color=\"tab:blue\", label=\"Predicted\", **hist_kwargs)\n",
    "    ax_.set_xlabel(\"Number of codons\"), ax_.set_ylabel(\"Frequency\")\n",
    "    ax_.legend()\n",
    "ax[1].set_yscale(\"log\")\n",
    "plt.tight_layout();"
   ]
  },
  {
   "cell_type": "code",
   "execution_count": 31,
   "metadata": {},
   "outputs": [
    {
     "data": {
      "image/png": "[encoded data removed]",
      "text/plain": [
       "<Figure size 864x432 with 1 Axes>"
      ]
     },
     "metadata": {
      "needs_background": "light"
     },
     "output_type": "display_data"
    }
   ],
   "source": [
    "### LOG SCALE -- problem3.png\n",
    "\n",
    "fig, ax = plt.subplots(nrows=1, figsize=(12, 6), sharex=True)\n",
    "hist_kwargs = dict(bins=list(range(0, 4000, 100)), edgecolor=\"k\", lw=1.2)\n",
    "\n",
    "ax.hist(orf_length, color=\"tab:blue\", label=\"Predicted\", **hist_kwargs)\n",
    "ax.set_xlabel(\"Number of codons\"), ax.set_ylabel(\"Frequency\")\n",
    "ax.legend()\n",
    "ax.set_yscale(\"log\")\n",
    "plt.savefig('problem3.png')\n",
    "plt.tight_layout();"
   ]
  },
  {
   "cell_type": "code",
   "execution_count": 32,
   "metadata": {
    "collapsed": true,
    "jupyter": {
     "outputs_hidden": true,
     "source_hidden": true
    }
   },
   "outputs": [
    {
     "data": {
      "text/plain": [
       "[2596.0,\n",
       " 276.0,\n",
       " 76.0,\n",
       " 122.0,\n",
       " 4406.0,\n",
       " 1283.0,\n",
       " 420.0,\n",
       " 83.0,\n",
       " 88.0,\n",
       " 223.0,\n",
       " 122.0,\n",
       " 98.0,\n",
       " 74.0,\n",
       " 74.0,\n",
       " 80.0,\n",
       " 82.0,\n",
       " 83.0,\n",
       " 101.0]"
      ]
     },
     "execution_count": 32,
     "metadata": {},
     "output_type": "execute_result"
    }
   ],
   "source": [
    "# Determing threshold\n",
    "### somewhere between 300 and 500\n",
    "\n",
    "test_list = []\n",
    "\n",
    "for l in orf_length:\n",
    "    if l > 70:\n",
    "        test_list.append(l)\n",
    "\n",
    "test_list"
   ]
  },
  {
   "cell_type": "code",
   "execution_count": 33,
   "metadata": {},
   "outputs": [],
   "source": [
    "covid_threshold = 70"
   ]
  },
  {
   "cell_type": "markdown",
   "metadata": {},
   "source": [
    "## Problem 4\n",
    "\n",
    "In the final problem, you will have to use NCBIs blastp online program to determine whether or not each ORF you found is an actual gene, and if it is -- what it does.\n",
    "\n",
    "BLASTp is a sequence alignment tool that you will learn about in the upcoming lectures. But for now, you can think of it like this: given a sequence, BLAST looks through all the genomes of known animals and sees if there are any regions there that match the query sequence. So, you can look through matching sequences where we'll usually expect to find very closely related organisms. For example, if we have some gene from a brown labrador puppy, we'd probably expect that gene to be farily similar to that same gene in black labrador puppies. Or in the case SARS-CoV-2, the genes will probably be similar to some related coronavirus."
   ]
  },
  {
   "cell_type": "markdown",
   "metadata": {},
   "source": [
    "![](https://www.economist.com/img/b/1000/563/90/sites/default/files/20200314_FBD001.jpg)"
   ]
  },
  {
   "cell_type": "markdown",
   "metadata": {},
   "source": [
    "**TASK**:\n",
    "Translate each of your ORFs into a protein sequence. You will need to implement the `translate_to_protein` function in `helper_functions.py`. You can verify your implementation against the provided unit tests (your code will be run against different examples for grading). Next, run each protein sequence through [NCBI BLASTp](https://blast.ncbi.nlm.nih.gov/Blast.cgi?PROGRAM=blastp&PAGE_TYPE=BlastSearch&LINK_LOC=blasthome). Look at the picture of the SARS-CoV-2 virus above, and try to match the ORFs you found to each protein type, e.g. ORF1 may be a spike protein, or ORF5 might be an envelope protein. Save your answers into the `covid_proteins` variable as a dict of lists, where the dict keys are what you see in the picture. The lists should hold the tuples specifying the appropriate ORFs in the same format that is returned by `find_all_orfs`.\n",
    "\n",
    "You should be able to determine where most proteins go by their names alone. In case the name is not sufficient, set the BLASTp database to _swissprot_ and look at the _COMMENT_ field on the matched genes."
   ]
  },
  {
   "cell_type": "code",
   "execution_count": 34,
   "metadata": {},
   "outputs": [],
   "source": [
    "def ORFs_TH(candidates, th):\n",
    "    \"\"\" Returns a list with ORF candidates with len > threshold. \"\"\"\n",
    "    ORF_list = []\n",
    "    for i in range(len(candidates)):\n",
    "        if orf_length[i] > th:\n",
    "            ORF_list.append(candidates[i])\n",
    "    return ORF_list "
   ]
  },
  {
   "cell_type": "code",
   "execution_count": 35,
   "metadata": {},
   "outputs": [
    {
     "data": {
      "text/plain": [
       "[(1, 13767, 21555),\n",
       " (1, 25392, 26220),\n",
       " (1, 26244, 26472),\n",
       " (1, 27393, 27759),\n",
       " (1, 265, 13483),\n",
       " (1, 21535, 25384),\n",
       " (1, 28273, 29533),\n",
       " (1, 2957, 3206),\n",
       " (1, 21935, 22199),\n",
       " (1, 26522, 27191),\n",
       " (1, 27893, 28259),\n",
       " (1, 28283, 28577),\n",
       " (1, 28733, 28955),\n",
       " (-1, 25585, 25807),\n",
       " (-1, 23197, 23437),\n",
       " (-1, 421, 667),\n",
       " (-1, 23073, 23322),\n",
       " (-1, 6186, 6489)]"
      ]
     },
     "execution_count": 35,
     "metadata": {},
     "output_type": "execute_result"
    }
   ],
   "source": [
    "ORF_list = ORFs_TH(orf_candidates, covid_threshold)\n",
    "ORF_list"
   ]
  },
  {
   "cell_type": "code",
   "execution_count": 36,
   "metadata": {},
   "outputs": [],
   "source": [
    "ORFs_sequence = []\n",
    "\n",
    "for element in ORF_list:\n",
    "    strand, start, stop = element\n",
    "    sequence = record.seq[start : stop]\n",
    "    if strand == - 1:\n",
    "        sequence = sequence.reverse_complement()\n",
    "    ORFs_sequence.append(sequence)\n"
   ]
  },
  {
   "cell_type": "code",
   "execution_count": 37,
   "metadata": {},
   "outputs": [],
   "source": [
    "proteins = []\n",
    "\n",
    "for seq in ORFs_sequence:\n",
    "    protein = translate_to_protein(seq)\n",
    "    proteins.append(protein)\n",
    "    "
   ]
  },
  {
   "cell_type": "code",
   "execution_count": 38,
   "metadata": {},
   "outputs": [],
   "source": [
    "covid_proteins = {\n",
    "    \"Envelope protein\": [(1, 26244, 26472)],  # (strand, start location, stop location), don't forget to the provided example\n",
    "    \"Membrane protein\": [(1, 26522, 27191)],\n",
    "    \"Spike protein\": [(1, 21535, 25384)],\n",
    "    \"Nucleocapsid protein\": [(1, 28273, 29533)],\n",
    "    \"Lipid membrane\": [],\n",
    "}"
   ]
  }
 ],
 "metadata": {
  "kernelspec": {
   "display_name": "Python 3",
   "language": "python",
   "name": "python3"
  },
  "language_info": {
   "codemirror_mode": {
    "name": "ipython",
    "version": 3
   },
   "file_extension": ".py",
   "mimetype": "text/x-python",
   "name": "python",
   "nbconvert_exporter": "python",
   "pygments_lexer": "ipython3",
   "version": "3.7.1"
  }
 },
 "nbformat": 4,
 "nbformat_minor": 4
}
