{
 "cells": [
  {
   "cell_type": "code",
   "execution_count": 1,
   "metadata": {},
   "outputs": [],
   "source": [
    "import numpy as np\n",
    "from Bio import Entrez\n",
    "import gzip\n",
    "import pickle\n",
    "\n",
    "# In order to import from the python file without hassle, we add the current\n",
    "# directory to the python path\n",
    "import sys; sys.path.append(\".\")"
   ]
  },
  {
   "cell_type": "markdown",
   "metadata": {},
   "source": [
    "Let's let the nice folks at NCBI know who we are."
   ]
  },
  {
   "cell_type": "code",
   "execution_count": 2,
   "metadata": {},
   "outputs": [],
   "source": [
    "Entrez.email = \"sara.bizjak@student.fmf.uni-lj.si\""
   ]
  },
  {
   "cell_type": "markdown",
   "metadata": {},
   "source": [
    "# Genome assembly"
   ]
  },
  {
   "cell_type": "markdown",
   "metadata": {},
   "source": [
    "## Problem 1: Eulerian paths\n",
    "\n",
    "In this exercise, we're going to look at the Eulerian path search you learned about in lectures. \n",
    "\n",
    "**a)**\n",
    "Implement the `kmers` function in `helper_functions.py`. Look at the function docstrings for expected input paramters and return types. Your kmers function should be able to produce kmers of arbitrary size e.g. if we want 7-mers for the sequence *mesenchyme*, the function should return a list containing the following sequences: *mesench*, *esenchy*, *senchym*, *enchyme*. Your function should support arbitrary strides, e.g. in the previous example we used stride 1, while if we used the same string with stride 2, we would obtain the strings *mesench* and *senchym*.\n",
    "**[5 points]**\n",
    "\n",
    "**b)**\n",
    "Implement the `assemble_genome` function in `helper_functions.py`. Look at the function docstrings for expected input paramters and return types.  Your genome assembly function should work in the following way:\n",
    "1. For an input list of sequences, e.g. kmers, construct a DeBruijn graph as seen in the lectures.\n",
    "2. Find all possible Euerlian paths through the graph, i.e. all possible paths which visit each edge exactly once. Your paths should all start from a source node with in-degree zero. In case no such node exists, you may use the first sequence in the list of input sequences as your starting point. \n",
    "3. Decode your obtained paths into sequences, and return a list (or set) of unique genome assemblies as strings.\n",
    "**[10 points]**\n",
    "\n",
    "**c)**\n",
    "Modify your `assemble_genome` function in `helper_functions.py` to accept a list of input sequences in any order and still produce a correct reconstruction. An easy way to check this is to construct a list of kmers, and shuffle it. Your function should return the same results as in part b), where the kmers are ordered.\n",
    "**[5 points]**"
   ]
  },
  {
   "cell_type": "code",
   "execution_count": 3,
   "metadata": {},
   "outputs": [],
   "source": [
    "from helper_functions import kmers, assemble_genome"
   ]
  },
  {
   "cell_type": "markdown",
   "metadata": {},
   "source": [
    "## Problem 2: Minimum fragment length\n",
    "\n",
    "We will follow the idealized example from lectures where we have perfect coverage and each kmer is assumed to be sequenced exactly once. However, as we have seen in the lectures, some assemblies do not always produce unambiguous results. Sometimes more than one reconstruction is valid! In this exercise, we want to determine the minimum fragment length necessary for unambiguous reconstruction.\n",
    "\n",
    "**TASK:** Simulate the sequencing process by running your `kmers` function on the SARS-CoV-2 spike protein nucleotide sequence. Next, find all the valid assemblies of your obtained kmers. You'll notice that there are no ambiguities for longer kmers e.g. 50-mers, but we run into them when generating shorter \"reads\" (kmers). What is the minimum fragment length where we can unambiguously reconstruct the initial spike protein nucleotide sequence? In other words, what is smallest k for k-mers where we obtain exactly one valid assembly from our `assemble_genome` function? Save your answer into the `minimum_fragment_length` variable. Write your observations into the `minimum_fragment_length_comments` variable.\n",
    "\n",
    "**[10 points]**"
   ]
  },
  {
   "cell_type": "code",
   "execution_count": 4,
   "metadata": {},
   "outputs": [
    {
     "name": "stdout",
     "output_type": "stream",
     "text": [
      "[21562:25384](+)\n"
     ]
    }
   ],
   "source": [
    "# Spike protein : \"NC_045512\"\n",
    "\n",
    "with open('data/{}.pkl.gz'.format(\"NC_045512\"), 'rb') as f:\n",
    "    rec = pickle.load(f)   \n",
    "    spike = rec.seq[21562:25384]\n",
    "    \n",
    "    for r in rec.features:\n",
    "        if r.type == \"CDS\":\n",
    "                # find the region that codes for the \"S\" gene\n",
    "                if \"S\" in r.qualifiers.get(\"gene\", []):\n",
    "                    location = r.location\n",
    "                    print(location)             "
   ]
  },
  {
   "cell_type": "code",
   "execution_count": 16,
   "metadata": {},
   "outputs": [],
   "source": [
    "for i in range(50, 0, -1):\n",
    "    k_kmers = kmers(spike, i, 1)\n",
    "    assemble = assemble_genome(k_kmers, i, 1)\n",
    "    if len(assemble) > 1:\n",
    "        index = i\n",
    "        break"
   ]
  },
  {
   "cell_type": "code",
   "execution_count": 18,
   "metadata": {},
   "outputs": [
    {
     "data": {
      "text/plain": [
       "13"
      ]
     },
     "execution_count": 18,
     "metadata": {},
     "output_type": "execute_result"
    }
   ],
   "source": [
    "# First index with len > 1 -- we are looking for last, so our index is : index + 1\n",
    "index + 1"
   ]
  },
  {
   "cell_type": "code",
   "execution_count": 5,
   "metadata": {},
   "outputs": [],
   "source": [
    "k_kmers1 = kmers(spike, 13, 1)"
   ]
  },
  {
   "cell_type": "code",
   "execution_count": 6,
   "metadata": {},
   "outputs": [],
   "source": [
    "assemble1 = assemble_genome(k_kmers1, 13, 1)"
   ]
  },
  {
   "cell_type": "code",
   "execution_count": 7,
   "metadata": {},
   "outputs": [
    {
     "data": {
      "text/plain": [
       "1"
      ]
     },
     "execution_count": 7,
     "metadata": {},
     "output_type": "execute_result"
    }
   ],
   "source": [
    "len(assemble1)"
   ]
  },
  {
   "cell_type": "code",
   "execution_count": 8,
   "metadata": {},
   "outputs": [],
   "source": [
    "k_kmers2 = kmers(spike, 12, 1)"
   ]
  },
  {
   "cell_type": "code",
   "execution_count": 9,
   "metadata": {},
   "outputs": [],
   "source": [
    "assemble2 = assemble_genome(k_kmers2, 12, 1)"
   ]
  },
  {
   "cell_type": "code",
   "execution_count": 11,
   "metadata": {},
   "outputs": [
    {
     "data": {
      "text/plain": [
       "2"
      ]
     },
     "execution_count": 11,
     "metadata": {},
     "output_type": "execute_result"
    }
   ],
   "source": [
    "len(assemble2)"
   ]
  },
  {
   "cell_type": "code",
   "execution_count": 40,
   "metadata": {},
   "outputs": [],
   "source": [
    "minimum_fragment_length = 13\n",
    "minimum_fragment_length_comments = \"\"\"\n",
    "Its more likely for longer kmers to obtain exactly one valid assembly (to have only one Eulerian path), since for shorter ones its more likely to get the matching we are looking for --\n",
    "so there is bigger probability that graph have more connections and consequently -- more Eulerian paths.\n",
    "\"\"\""
   ]
  },
  {
   "cell_type": "markdown",
   "metadata": {},
   "source": [
    "## Problem 3: Unrealistic assumptions\n",
    "\n",
    "In this homework, we are assuming perfect coverage, which means we assume every kmer will be sequenced from the genome exactly once. We simulate this by running our kmers function on a known genome sequence.\n",
    "\n",
    "In the real world, these assumptions would hold no water. Many things have to be taken into consideration. For example, biologists first prepare the tissue to be sequenced. Imagine someone is preparing to sequence some mouse tissue, but they forget to wear gloves and contaminate the sample with some of their own cells, and bacteria from their hands. Then the mouse sample may contain human and bacterial DNA instead of just mouse DNA. Next, the sequencing process splits the DNA molecules into short fragments at random, so we might have the same region sequenced twice, while some regions will be completely skipped. Finally, the sequencing process itself works something like this: for every nucleotide in a sequence there exists some colored reagent which binds to it. So every base, ACTG, is assigned its own color. Each nucleotide then goes under a large microscopic camera, which literally takes pictures of every nucleotide, one by one. Then, this sequence of colors is converted into a nucleotide sequence. However, sometimes reagents don't bind to the nucleotides perfectly, so this can cause ambiguities or errors in the reads.\n",
    "\n",
    "**Question:** Write down at least **three** things we might encounter in the real world for which we have not accounted for by using kmers (you may use some issues I listed above, but think of at least one other thing we haven't mentioned yet). For each of the issues, think about how you would approach each problem. You don't need to write down a full guide, just a general overview of how we might solve each problem. Write your answer into the `unrealistic_assumptions` variable.\n",
    "**[5 points]**"
   ]
  },
  {
   "cell_type": "code",
   "execution_count": 42,
   "metadata": {},
   "outputs": [],
   "source": [
    "# Souce : https://www.bioinformaticsalgorithms.org/bioinformatics-chapter-3"
   ]
  },
  {
   "cell_type": "code",
   "execution_count": null,
   "metadata": {},
   "outputs": [],
   "source": [
    "unrealistic_assumptions = \"\"\"\n",
    "Assumption 1: DNA is double-stranded, so while assembling strand of a genome we will not know what to use -- a read or its reverse complement.\n",
    "We could do both and than choose the right one as described in \"assembly_with_alignment\".\n",
    "\n",
    "\n",
    "Assumption 2: The reads sequencing that are generated with sequencing machines often cointain errors. \n",
    "Those errors often complicate genome assembly because it's hard to identify all overlapped reads.\n",
    "The solution to this problem can be similar that the one described in the \"Assumption 3\". We coul allow more connections (with some error th).\n",
    "\n",
    "Assumption 3: Some regions of the genome may not be covered by any reads. It makes impossible to reconstruct the entire genome. It may cause some \"gaps\" in coverage \n",
    "and our presented graph could have some missing edges/connections (may not find the right Eulerian path).\n",
    "We could solve this \"gap\" problem by allowing more connections (not just the perfect and right ones), for example \n",
    "by setting some error threshold that would determine how many \"letters\" could differ to still make the connection between edges in graph.\n",
    "\n",
    "\"\"\""
   ]
  },
  {
   "cell_type": "markdown",
   "metadata": {},
   "source": [
    "**Question:** In all of the cases we have talked about above, we pretend we are going into the genome assembly process blind. We have some DNA fragments about which we know nothing, so we have to perform assembly from the ground up. However, often times, we know something about our organisms. For example, for SARS-CoV-2, it was suspected that it was related to SARS and MERS. Think about how we could use existing genomes from related species to facilitate genome assembly. Think back to homework 2, where we looked at sequence alignment tools. Could we use some of that machinery to help with assembling the SARS-CoV-2 genome? Write down how you would approach genome assembly for SARS-CoV-2, known that it's closely related to SARS, or even the bat RaTG13. Write your answer into the `assembly_with_alignment` variable.\n",
    "**[5 points]**"
   ]
  },
  {
   "cell_type": "code",
   "execution_count": null,
   "metadata": {},
   "outputs": [],
   "source": [
    "assembly_with_alignment = \"\"\"\n",
    "In real life it is expected to get multiple solutions -- multiple assembling (\"multiple output strings from our function assemble_genome\"). \n",
    "We would like to eliminate the less accurate assemblings and keep only the \"good\" one.\n",
    "To check which the best, we could do the sequence alignment (use the function from HW2) and choose the solutiona by comparing the scores from sequence alignment (choose the one with max score)\n",
    "in comparison to RaTG13 (or SARS) -- because they are \"closest\" to SASR-CoV-2 virus.\n",
    "\n",
    "I am also thinking that genome could be assembled in multiple parts with the help of function local alignment on those smaller parts compared to RaTG13 (or SARS).\n",
    "After assembling and alignment of smaller parts, we would \"glue\" them together.\n",
    "\"\"\""
   ]
  },
  {
   "cell_type": "code",
   "execution_count": null,
   "metadata": {},
   "outputs": [],
   "source": []
  }
 ],
 "metadata": {
  "kernelspec": {
   "display_name": "Python 3",
   "language": "python",
   "name": "python3"
  },
  "language_info": {
   "codemirror_mode": {
    "name": "ipython",
    "version": 3
   },
   "file_extension": ".py",
   "mimetype": "text/x-python",
   "name": "python",
   "nbconvert_exporter": "python",
   "pygments_lexer": "ipython3",
   "version": "3.7.1"
  }
 },
 "nbformat": 4,
 "nbformat_minor": 4
}
