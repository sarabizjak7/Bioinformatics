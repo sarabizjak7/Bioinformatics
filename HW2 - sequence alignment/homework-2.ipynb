{
 "cells": [
  {
   "cell_type": "code",
   "execution_count": 3,
   "metadata": {},
   "outputs": [],
   "source": [
    "import numpy as np\n",
    "from Bio import Entrez\n",
    "import gzip\n",
    "import pickle"
   ]
  },
  {
   "cell_type": "code",
   "execution_count": 4,
   "metadata": {},
   "outputs": [],
   "source": [
    "# In order to import from the python file without hassle, we add the current\n",
    "# directory to the python path\n",
    "import sys\n",
    "sys.path.append(\".\")"
   ]
  },
  {
   "cell_type": "markdown",
   "metadata": {},
   "source": [
    "Let's let the nice folks at NCBI know who we are."
   ]
  },
  {
   "cell_type": "code",
   "execution_count": 5,
   "metadata": {},
   "outputs": [],
   "source": [
    "Entrez.email = \"sara.bizjak@student.fmf.uni-lj.si\"\n",
    "#\"sarabizjak97@gmail.com\"\n",
    "#\"sara.bizjak@student.fmf.uni-lj.si\""
   ]
  },
  {
   "cell_type": "markdown",
   "metadata": {},
   "source": [
    "# Phylogenetic analysis of coronaviruses\n",
    "\n",
    "In the first part of the homework, you will conduct a phylogenetic analysis of a handful of coronaviruses. You will look at the similarity between the DNA sequences of these viruses to determine how closely related they are to one another. This might give us some insight into how these viruses might have evolved through time, or from which species SARS-CoV-2 jumped to us, humans.\n",
    "\n",
    "We will build a phylogenetic tree in two steps. First, we will calculate the distances between each pair of viral genomes. We can't just compare them directly, we have to align them first. So we will run global alignment to get an optimal alignment between each pair of viral genomes. Then, we will calculate the distance between these alignments using Hamming distance. This just checks the number of symbols in the two sequences which do not match. Having calculated all pairwise distances, we can build a dendrogram, which will serve as our phylogenetic tree.\n",
    "\n",
    "**A note on runtime:** To build a phylogenetic tree, you will need to calculate all pairwise distances between several coronavirus genomes. As you have learned in lectures, computing an alignment between two sequences of length $N$ and $M$ requires forming and calculating a table of $N \\cdot M$ entries. This is fine for small sequences, but genomes, even short ones like viral genomes, are generally too long for this. For this reason, we will not calculate pairwise alignments between complete viral genomes in our analysis, but we will focus on the spike protein sequence only. The spike protein is one of the most important parts of any virus, as it is the one that grants the virus entry to host cells. Also, doing so will reduce the sequence lengths from ~30k to around 1.3k, which is much more manageable. Even so, do your best to write fast, efficient Python code, as you will spend a long time waiting for your programs to complete otherwise.\n",
    "\n",
    "**Speeding things up**: On my laptop, each `global_alignment` call on 1.3k long protein sequences takes around 30 seconds. We have to calculate 210 comparisons, which takes roughly two hours. For those of you who want to speed things up and play around with several parameter settings, you can take advantage of *numba*. *numba* is a Python JIT library, which compiles your code and makes it run faster. We will make *numba* available in the grading environment for this homework. This is not a requirement or even a recommendation, because *numba* can be a pain to work with. However, you are welcome to take advantage of this if you so wish."
   ]
  },
  {
   "cell_type": "code",
   "execution_count": 6,
   "metadata": {},
   "outputs": [],
   "source": [
    "accession_codes = {\n",
    "    # 7 known human coronaviruses\n",
    "    \"Human-SARS-CoV-2\": \"NC_045512\",\n",
    "    \"Human-SARS\": \"NC_004718\",\n",
    "    \"Human-MERS\": \"NC_019843\",\n",
    "    \"Human-HCoV-OC43\": \"NC_006213\",\n",
    "    \"Human-HCoV-229E\": \"NC_002645\",\n",
    "    \"Human-HCoV-NL63\": \"NC_005831\",\n",
    "    \"Human-HCoV-HKU1\": \"NC_006577\",\n",
    "    \n",
    "    # Bat\n",
    "    \"Bat-CoV MOP1\": \"EU420138\",\n",
    "    \"Bat-CoV HKU8\": \"NC_010438\",\n",
    "    \"Bat-CoV HKU2\": \"NC_009988\",\n",
    "    \"Bat-CoV HKU5\": \"NC_009020\",\n",
    "    \"Bat-CoV RaTG13\": \"MN996532\",\n",
    "    \"Bat-CoV-ENT\": \"NC_003045\",\n",
    "    \n",
    "    # Other animals\n",
    "    \"Hedgehog-CoV 2012-174/GER/2012\": \"NC_039207\",\n",
    "    \"Pangolin-CoV MP789\": \"MT121216\",\n",
    "    \"Rabbit-CoV HKU14\": \"NC_017083\",\n",
    "    \"Duck-CoV isolate DK/GD/27/2014\": \"NC_048214\",\n",
    "    \"Feline infectious peritonitis virus\": \"NC_002306\",  # cat\n",
    "    \"Giraffe-CoV US/OH3/2003\": \"EF424623\",\n",
    "    \"Murine-CoV MHV/BHKR_lab/USA/icA59_L94P/2012\": \"KF268338\",  # mouse\n",
    "    \"Equine-CoV Obihiro12-2\": \"LC061274\",  # horse\n",
    "}"
   ]
  },
  {
   "cell_type": "markdown",
   "metadata": {},
   "source": [
    "Here is the list of viruses and their accession codes that we will be working with in this homework. As mentioned in _a note on runtime_, we won't be using the entire sequence to infer phylogenies, but we'll only look at the spike protein. To get spike protein regions from a `SeqRecord` object, we have to inspect the `features` field of each record. Look through the gene coding regions (CDS) of each sequence and find the region that codes for the \"S\" gene. Some records won't have this field, so look for \"spike protein\" in the `product` field."
   ]
  },
  {
   "cell_type": "code",
   "execution_count": 7,
   "metadata": {},
   "outputs": [],
   "source": [
    "# I HAVE TROUBLES WITH \"LOAD\" SO IM OPENING SENT FILES \n",
    "\n",
    "# INSTRUCTIONS\n",
    "\n",
    "# 1. load sequences\n",
    "# 2. extract spike protein regions\n",
    "# 3. convert to amino-acid sequences\n",
    "\n",
    "\n",
    "from Bio.SeqFeature import SeqFeature, FeatureLocation\n",
    "from helper_functions import load\n",
    "\n",
    "# Empty list in which we are gona save tuples (virus, amino_acid), \n",
    "# where virus is the name of the virus from dict above and amino_acid is  its translated spike protein seq\n",
    "\n",
    "spike_proteins = []\n",
    "\n",
    "for virus in accession_codes:\n",
    "    organism_id = accession_codes[virus]\n",
    "    with open('data/{}.pkl.gz'.format(organism_id), 'rb') as f:\n",
    "        rec = pickle.load(f)\n",
    "        \n",
    "        for r in rec.features:\n",
    "            # look through the gene coding regions (CDS)\n",
    "            if r.type == \"CDS\":\n",
    "                # find the region that codes for the \"S\" gene\n",
    "                if \"S\" in r.qualifiers.get(\"gene\", []):\n",
    "                    amino_acid = r.qualifiers.get(\"translation\")[0]\n",
    "                    spike_proteins.append((virus, amino_acid))\n",
    "                elif \"spike protein\" in r.qualifiers.get(\"product\", []):\n",
    "                    amino_acid = r.qualifiers.get(\"translation\")[0]\n",
    "                    spike_proteins.append([virus, amino_acid])    "
   ]
  },
  {
   "cell_type": "code",
   "execution_count": 6,
   "metadata": {},
   "outputs": [
    {
     "data": {
      "text/plain": [
       "21"
      ]
     },
     "execution_count": 6,
     "metadata": {},
     "output_type": "execute_result"
    }
   ],
   "source": [
    "len(spike_proteins)"
   ]
  },
  {
   "cell_type": "markdown",
   "metadata": {},
   "source": [
    "## Problem 1\n",
    "\n",
    "**TASK:**\n",
    "Implement the Needleman-Wunsch algorithm you learned about in lectures for global sequence alignment in the `global_alignment` functions in `helper_functions.py`. **[10 points]**\n",
    "\n",
    "Once you have implemented global sequence alignment, proceed to Problem 2."
   ]
  },
  {
   "cell_type": "code",
   "execution_count": 8,
   "metadata": {},
   "outputs": [],
   "source": [
    "from helper_functions import global_alignment"
   ]
  },
  {
   "cell_type": "code",
   "execution_count": 79,
   "metadata": {
    "collapsed": true,
    "jupyter": {
     "outputs_hidden": true,
     "source_hidden": true
    }
   },
   "outputs": [
    {
     "data": {
      "text/plain": [
       "'MFIFLLFLTLTSGSDLDRCTTFDDVQAPNYTQHTSSMRGVYYPDEIFRSDTLYLTQDLFLPFYSNVTGFHTINHTFGNPVIPFKDGIYFAATEKSNVVRGWVFGSTMNNKSQSVIIINNSTNVVIRACNFELCDNPFFAVSKPMGTQTHTMIFDNAFNCTFEYISDAFSLDVSEKSGNFKHLREFVFKNKDGFLYVYKGYQPIDVVRDLPSGFNTLKPIFKLPLGINITNFRAILTAFSPAQDIWGTSAAAYFVGYLKPTTFMLKYDENGTITDAVDCSQNPLAELKCSVKSFEIDKGIYQTSNFRVVPSGDVVRFPNITNLCPFGEVFNATKFPSVYAWERKKISNCVADYSVLYNSTFFSTFKCYGVSATKLNDLCFSNVYADSFVVKGDDVRQIAPGQTGVIADYNYKLPDDFMGCVLAWNTRNIDATSTGNYNYKYRYLRHGKLRPFERDISNVPFSPDGKPCTPPALNCYWPLNDYGFYTTTGIGYQPYRVVVLSFELLNAPATVCGPKLSTDLIKNQCVNFNFNGLTGTGVLTPSSKRFQPFQQFGRDVSDFTDSVRDPKTSEILDISPCAFGGVSVITPGTNASSEVAVLYQDVNCTDVSTAIHADQLTPAWRIYSTGNNVFQTQAGCLIGAEHVDTSYECDIPIGAGICASYHTVSLLRSTSQKSIVAYTMSLGADSSIAYSNNTIAIPTNFSISITTEVMPVSMAKTSVDCNMYICGDSTECANLLLQYGSFCTQLNRALSGIAAEQDRNTREVFAQVKQMYKTPTLKYFGGFNFSQILPDPLKPTKRSFIEDLLFNKVTLADAGFMKQYGECLGDINARDLICAQKFNGLTVLPPLLTDDMIAAYTAALVSGTATAGWTFGAGAALQIPFAMQMAYRFNGIGVTQNVLYENQKQIANQFNKAISQIQESLTTTSTALGKLQDVVNQNAQALNTLVKQLSSNFGAISSVLNDILSRLDKVEAEVQIDRLITGRLQSLQTYVTQQLIRAAEIRASANLAATKMSECVLGQSKRVDFCGKGYHLMSFPQAAPHGVVFLHVTYVPSQERNFTTAPAICHEGKAYFPREGVFVFNGTSWFITQRNFFSPQIITTDNTFVSGNCDVVIGIINNTVYDPLQPELDSFKEELDKYFKNHTSPDVDLGDISGINASVVNIQKEIDRLNEVAKNLNESLIDLQELGKYEQYIKWPWYVWLGFIAGLIAIVMVTILLCCMTSCCSCLKGACSCGSCCKFDEDDSEPVLKGVKLHYT'"
      ]
     },
     "execution_count": 79,
     "metadata": {},
     "output_type": "execute_result"
    }
   ],
   "source": [
    "spike_proteins[1][1]\n"
   ]
  },
  {
   "cell_type": "markdown",
   "metadata": {},
   "source": [
    "## Problem 2\n",
    "\n",
    "**TASK:**\n",
    "Build a phylogenetic tree using the `global_alignment` function you implemented in the previous section. You will first need to calculate distances between all pairs of protein sequences. To calculate the distance between two sequences, first, calculate the global alignment of the two sequences. Then compare these alignments using the Hamming distance. The Hamming distance is just the number of mismatching characters between the two sequences e.g. the Hamming distance between \"cat\" and \"hat\" is 1, or 3 between \"road\" and \"rain\". Note that this distance is different from the global alignment score produced by `global_alignment`! Once you have calculated all pairwise distances, plot the dendrogram. Apply what you learned about hierarchical clustering in other machine learning courses to get as nice a dendrogram as possible. If you have not taken any machine learning courses, the recommendation is to not use *single linkage*. Save the resulting dendrogram into `problem2.png`. Are the results surprising? Do you see something you didn't expect? Save your answers into the `phylogeny_comments` variable. **[10 points]**\n",
    "\n",
    "Hint: check out `scipy.spatial.distance.squareform`, `scipy.cluster.hierarchy.linkage`, and `scipy.cluster.hierarchy.dendrogram` to build and plot the dendrogram.\n",
    "\n",
    "You will also need to define a scoring function for sequence alignment. Use BLOSUM62 throughout this homework. Hint: see `biopython`."
   ]
  },
  {
   "cell_type": "code",
   "execution_count": 9,
   "metadata": {},
   "outputs": [],
   "source": [
    "from Bio.Align import substitution_matrices\n",
    "blosum62_matrix = substitution_matrices.load(\"BLOSUM62\")\n",
    "\n",
    "# print(blosum62_matrix)\n",
    "\n",
    "def Blosum62(a, b):\n",
    "    \"\"\" Returns the value of blosum62 scoring function of a and b. \"\"\"\n",
    "    # Replace - with * so we can use blosum62_matrix\n",
    "    if a == \"-\":\n",
    "        a = \"*\"\n",
    "    if b == \"-\":\n",
    "        b = \"*\"\n",
    "    return blosum62_matrix[a, b]\n",
    "\n",
    "def hammingDistance (s1, s2):\n",
    "    \"\"\" Returns the Hamming distance between strings s1 and s2. \"\"\"\n",
    "    distance = 0\n",
    "    l = len(s1)\n",
    "    for i in range(l):\n",
    "        if s1[i] != s2[i]:\n",
    "            distance += 1\n",
    "    return distance"
   ]
  },
  {
   "cell_type": "code",
   "execution_count": 9,
   "metadata": {
    "jupyter": {
     "source_hidden": true
    }
   },
   "outputs": [],
   "source": [
    "def getGlobalDistances(i, j, proteins, file):\n",
    "    \"\"\" \n",
    "    Returns the Hamming distance on aligns after global alignment with scoring function blosum62\n",
    "    between i-th and j-th protein in list 'proteins' and writes in into 'file'. \n",
    "    \"\"\"\n",
    "    # Get spike proteins for both viruses\n",
    "    seq1 = str(proteins[i][1])        \n",
    "    seq2 = str(proteins[j][1])\n",
    "\n",
    "    # Global alignment\n",
    "    align1, align2, score =  global_alignment(seq1, seq2, Blosum62)\n",
    "        \n",
    "    # Hamming distance\n",
    "    distance = hammingDistance(align1, align2)\n",
    "    \n",
    "    # Write down the viruses names and their distance\n",
    "    file.write(str(distance) + \"\\n\")\n",
    "    file.write(\"\\n\")  \n",
    "\n",
    "    return\n",
    "\n",
    "# RUN\n",
    "\n",
    "i = 0\n",
    "number_of_spikes = len(spike_proteins)\n",
    "f = open(\"global_alignment_scores.txt\", \"w\")\n",
    "\n",
    "while i < number_of_spikes:\n",
    "    for j in range(i + 1, number_of_spikes):\n",
    "        getGlobalDistances(i, j, spike_proteins, f)\n",
    "    i += 1\n",
    "    \n",
    "f.close()\n"
   ]
  },
  {
   "cell_type": "code",
   "execution_count": 10,
   "metadata": {},
   "outputs": [],
   "source": [
    "### DENDROGRAM\n",
    "\"\"\"\n",
    "with open('global_alignment_scores.txt') as f:\n",
    "    for line in f:\n",
    "\"\"\"\n",
    "\n",
    "from scipy.spatial.distance import squareform\n",
    "from scipy.cluster.hierarchy import dendrogram, linkage\n",
    "#from scipy.cluster import hierarchy\n",
    "\n",
    "from matplotlib import pyplot as plt\n",
    "\n",
    "number_of_spikes = len(spike_proteins)\n",
    "distances = []\n",
    "\n",
    "\n",
    "with open('global_alignment_scores.txt') as f:\n",
    "    for line in f:\n",
    "        if line != \"\\n\":\n",
    "            dist = int(line)\n",
    "            #print(dist)\n",
    "            distances += [dist]"
   ]
  },
  {
   "cell_type": "code",
   "execution_count": 11,
   "metadata": {},
   "outputs": [
    {
     "name": "stderr",
     "output_type": "stream",
     "text": [
      "/Library/Frameworks/Python.framework/Versions/3.7/lib/python3.7/site-packages/ipykernel_launcher.py:2: ClusterWarning: scipy.cluster: The symmetric non-negative hollow observation matrix looks suspiciously like an uncondensed distance matrix\n",
      "  \n"
     ]
    },
    {
     "data": {
      "image/png": "[encoded data removed]",
      "text/plain": [
       "<Figure size 432x288 with 1 Axes>"
      ]
     },
     "metadata": {
      "needs_background": "light"
     },
     "output_type": "display_data"
    }
   ],
   "source": [
    "distance_matrix = squareform(distances)\n",
    "link = linkage(distance_matrix, method = 'average')\n",
    "\n",
    "plt.figure(figsize = )\n",
    "dendrogram(link, orientation = \"right\", labels = list(accession_codes.keys()), leaf_font_size = 9)\n",
    "plt.xlabel(\"Distance\")\n",
    "#plt.ylabel(\"Virus\")\n",
    "plt.savefig('problem2.png')\n",
    "plt.show()"
   ]
  },
  {
   "cell_type": "code",
   "execution_count": 1,
   "metadata": {},
   "outputs": [],
   "source": [
    "phylogeny_comments = \"\"\"\n",
    "Human-SARS-CoV-2 is genetically very close to Bat-Cov RaTG13 than any other human covid virus. \n",
    "Probably because of that fact, scientists are concluding that it is originated from animals.\n",
    "\"\"\""
   ]
  },
  {
   "cell_type": "markdown",
   "metadata": {},
   "source": [
    "# MiniBLAST\n",
    "\n",
    "In the previous homework, your task was to find ORF candidates, which we then ran through NCBI's BLAST to find matching sequences in other organisms. Doing so, we were able to determine whether each ORF is a gene, and if it is a gene - what that gene does. In this homework, we will implement our own simplified version of BLAST, MiniBLAST.\n",
    "\n",
    "*Disclaimer*: Obviously, BLAST is a complicated, state-of-the-art piece of technology, and the algorithms we will use here are not used in NCBI's BLAST at all. BLAST is highly optimized and uses heuristics to obtain (very good) approximate solutions and can query thousands of sequences in a matter of seconds. Our implementation will be slightly less sophisticated and slightly slower. However, the basic functionality and end result of this implementation will be conceptually the same as that of BLAST.\n",
    "\n",
    "## Problem 3\n",
    "\n",
    "**TASK:**\n",
    "Implement the Smith-Waterman algorithm you learned about in lectures for local sequence alignment in the `local_alignment` function in `helper_functions.py`. You can verify your implementation against provided unit tests, but note that the unit tests may not be complete, but can serve as a guide in the right direction. Your code will be run against different and complete examples for grading. **[10 points]**\n",
    "\n",
    "Once you have implemented local sequence alignment, proceed to Problem 4."
   ]
  },
  {
   "cell_type": "code",
   "execution_count": 84,
   "metadata": {},
   "outputs": [],
   "source": [
    "from helper_functions import local_alignment"
   ]
  },
  {
   "cell_type": "markdown",
   "metadata": {},
   "source": [
    "## Problem 4\n",
    "\n",
    "In the previous homework, we found ORF candidates in the SARS-CoV-2 genome and applied some filtering to reduce the number of ORFs we have to check. We then used NCBI's BLAST to find similar sequences in other organisms, which have already been annotated. We were then able to infer whether or not our ORF candidates were genes, and if they were, what they do. We would like to go through this process again, but this time, everyone from NCBI decided to go on a yearlong cruise around the world, and their servers just happened to go down with nobody to fix them. So we are left to fend for ourselves.\n",
    "\n",
    "We have already run our ORF finder and, having applied some clever filtering, we have managed to narrow down our search to five ORFs. We will use our MiniBLAST implementation to test each of these ORFs to known, annotated sequences from three known coronaviruses, hoping to find a good match. A good match would mean that our ORF is most likely a gene, and since we know what the gene does in the reference virus, we will assume it does the same in SARS-CoV-2.\n",
    "\n",
    "**TASK:**\n",
    "We randomly pick three viruses, Human-SARS, Bat-CoV RaTG13, and Pangolin-CoV MP789 to use as reference genomes. You are given 5 ORFs from SARS-CoV-2 that we found in the previous homework. It is your job to determine their function i.e. what gene they code for. For each ORF, calculate the local alignment to all annotated protein sequences from the three reference genomes. Score each alignment by counting the number of matching symbols in the aligned sequences e.g. A-TT and A-GG has similarity 2 (similarily to Hamming distance, but reversed).\n",
    "\n",
    "Save your answers into the `orf_matches` variable as indicated in the cell below. Each ORF should be assigned a *closest-organism*, indicating in which reference virus the closest match was found, as well as a *homologous-gene*, indicating which gene the ORF matched to. Note any interesting observations into the `orf_comments` variable.\n",
    "**[10 points]**"
   ]
  },
  {
   "cell_type": "code",
   "execution_count": 85,
   "metadata": {},
   "outputs": [],
   "source": [
    "reference_genomes = [\n",
    "    \"Human-SARS\",\n",
    "    \"Bat-CoV RaTG13\",\n",
    "    \"Pangolin-CoV MP789\",\n",
    "]\n",
    "\n",
    "query = \"Human-SARS-CoV-2\""
   ]
  },
  {
   "cell_type": "code",
   "execution_count": 86,
   "metadata": {},
   "outputs": [],
   "source": [
    "reference_proteins = {\"Human-SARS\": [],\n",
    "                      \"Bat-CoV RaTG13\": [],\n",
    "                      \"Pangolin-CoV MP789\": []\n",
    "                     }\n",
    "\n",
    "for virus in reference_genomes:\n",
    "    organism_id = accession_codes[virus]\n",
    "    with open('data/{}.pkl.gz'.format(organism_id), 'rb') as f:\n",
    "        rec = pickle.load(f)\n",
    "        \n",
    "        # Finding all proteins in a base\n",
    "        for r in rec.features:\n",
    "            # look through the gene coding regions (CDS)\n",
    "            if r.type == \"CDS\":\n",
    "                try:   \n",
    "                    name = (r.qualifiers.get(\"product\")[0])\n",
    "                    protein_seq = (r.qualifiers.get(\"translation\")[0])\n",
    "                    reference_proteins[virus].append((name, protein_seq))\n",
    "                except:\n",
    "                    continue"
   ]
  },
  {
   "cell_type": "code",
   "execution_count": 17,
   "metadata": {
    "collapsed": true,
    "jupyter": {
     "outputs_hidden": true,
     "source_hidden": true
    }
   },
   "outputs": [
    {
     "name": "stdout",
     "output_type": "stream",
     "text": [
      "14\n",
      "10\n",
      "11\n"
     ]
    }
   ],
   "source": [
    "print(len(reference_proteins[\"Human-SARS\"]))\n",
    "print(len(reference_proteins[\"Bat-CoV RaTG13\"]))\n",
    "print(len(reference_proteins[\"Pangolin-CoV MP789\"]))"
   ]
  },
  {
   "cell_type": "markdown",
   "metadata": {},
   "source": [
    "First, we have to build up our reference database. To do this, look through all the coding regions (CDS) on each reference genome, extract it, and convert it to a protein sequence. Remember which gene each protein sequence belongs to, e.g. ORF1a, spike protein, ...\n",
    "\n",
    "Here are you ORF candidates from SARS-CoV-2:"
   ]
  },
  {
   "cell_type": "code",
   "execution_count": 87,
   "metadata": {},
   "outputs": [],
   "source": [
    "orf_candidates = {\n",
    "    \"ORF-1\": (1, 11995, 13483),\n",
    "    \"ORF-2\": (1, 26792, 27191),\n",
    "    \"ORF-3\": (1, 23650, 25384),\n",
    "    \"ORF-4\": (1, 9133, 13483),\n",
    "    \"ORF-5\": (1, 25392, 26220),\n",
    "}"
   ]
  },
  {
   "cell_type": "code",
   "execution_count": 88,
   "metadata": {},
   "outputs": [],
   "source": [
    "# Translate the 5 orfs above to te proteins\n",
    "\n",
    "organism_id = accession_codes[query]\n",
    "proteins = []\n",
    "\n",
    "with open('data/{}.pkl.gz'.format(organism_id), 'rb') as f:    \n",
    "    rec = pickle.load(f)\n",
    "\n",
    "# Find the orf sequence\n",
    "for orf in orf_candidates:            \n",
    "    strand, start, stop = orf_candidates[orf]\n",
    "    sequence = rec.seq[start : stop]\n",
    "    #if strand == - 1:\n",
    "        #sequence = sequence.reverse_complement()\n",
    "    # translate the seq into a protein and add it to proteins list\n",
    "    protein = sequence.translate()\n",
    "    proteins.append(str(protein))"
   ]
  },
  {
   "cell_type": "code",
   "execution_count": 89,
   "metadata": {},
   "outputs": [],
   "source": [
    "def ReversedHammingDistance (s1, s2):\n",
    "    \"\"\" Returns the reversed Hamming distance between strings s1 and s2. \"\"\"\n",
    "    distance = 0\n",
    "    l = len(s1)\n",
    "    for i in range(l):\n",
    "        if s1[i] == s2[i]:\n",
    "            distance += 1\n",
    "    return distance"
   ]
  },
  {
   "cell_type": "code",
   "execution_count": 21,
   "metadata": {
    "jupyter": {
     "source_hidden": true
    }
   },
   "outputs": [],
   "source": [
    "seq1 = str(proteins[0])\n",
    "seq2 = str(reference_proteins[\"Human-SARS\"][0][1])\n",
    "#print(seq1)\n",
    "#print(seq2)\n",
    "align1, align2, score =  local_alignment(seq1, seq2, Blosum62)"
   ]
  },
  {
   "cell_type": "code",
   "execution_count": 23,
   "metadata": {
    "collapsed": true,
    "jupyter": {
     "outputs_hidden": true,
     "source_hidden": true
    }
   },
   "outputs": [
    {
     "data": {
      "text/plain": [
       "474"
      ]
     },
     "execution_count": 23,
     "metadata": {},
     "output_type": "execute_result"
    }
   ],
   "source": [
    "distance = ReversedHammingDistance(align1, align2)\n",
    "distance"
   ]
  },
  {
   "cell_type": "code",
   "execution_count": 43,
   "metadata": {
    "collapsed": true,
    "jupyter": {
     "outputs_hidden": true,
     "source_hidden": true
    }
   },
   "outputs": [
    {
     "name": "stdout",
     "output_type": "stream",
     "text": [
      "1\n",
      "2\n",
      "3\n",
      "4\n",
      "5\n"
     ]
    }
   ],
   "source": [
    "# 5 ORFS : 3 viruses all proteins...\n",
    "\n",
    "g = open(\"local_alignment_scores.txt\", \"w\")\n",
    "for ORF_nr in range(len(proteins)):\n",
    "    print(ORF_nr + 1)\n",
    "    g.write(\" --- \" + \"\\n\")\n",
    "    for key in reference_proteins:\n",
    "        for j in range(len(reference_proteins[key])):\n",
    "            # name\n",
    "            # reference_proteins[key][j][0]\n",
    "            # protein\n",
    "            # reference_proteins[key][j][1]\n",
    "\n",
    "            seq1 = proteins[ORF_nr]\n",
    "            seq2 = reference_proteins[key][j][1]\n",
    "\n",
    "            # Local alignment\n",
    "            align1, align2, score =  local_alignment(seq1, seq2, Blosum62)\n",
    "\n",
    "            # Hamming distance\n",
    "            distance = ReversedHammingDistance(align1, align2)\n",
    "\n",
    "            # Write down the viruses names and their distance\n",
    "            g.write(\"ORF -\" + str(ORF_nr + 1) + \" -- : \" + str(key) + \" : \" + str(reference_proteins[key][j][0]) + \"\\n\")\n",
    "            g.write(str(distance) + \"\\n\") \n",
    "            g.write(\"\\n\")\n",
    "            \n",
    "g.close()"
   ]
  },
  {
   "cell_type": "code",
   "execution_count": 90,
   "metadata": {},
   "outputs": [],
   "source": [
    "orf_matches = {\n",
    "    \"ORF-1\": {\n",
    "        # Both 491 matches\n",
    "        \"closest-organism\": \"Bat-CoV RaTG13, Pangolin-CoV MP789\",\n",
    "        \"homologous-gene\": \"orf1ab polyprotein\",\n",
    "    },\n",
    "    \"ORF-2\": {\n",
    "        # Both 132 matches\n",
    "        \"closest-organism\": \"Bat-CoV RaTG13, Pangolin-CoV MP789\",\n",
    "        \"homologous-gene\": \"membrane protein, membrane glycoprotein\",\n",
    "    },\n",
    "    \"ORF-3\": {\n",
    "        # 575 matches\n",
    "        \"closest-organism\": \"Bat-CoV RaTG13\",\n",
    "        \"homologous-gene\": \"spike glycoprotein\",\n",
    "    },\n",
    "    \"ORF-4\": {\n",
    "        # 1440 matches\n",
    "        \"closest-organism\": \"Bat-CoV RaTG13\",\n",
    "        \"homologous-gene\": \"orf1ab polyprotein\",\n",
    "    },\n",
    "    \"ORF-5\": {\n",
    "        # 269 matches     \n",
    "        \"closest-organism\": \"Bat-CoV RaTG13\",\n",
    "        \"homologous-gene\": \"nonstructural protein NS3\",\n",
    "    },\n",
    "}\n",
    "\n",
    "orf_comments = \"\"\"\n",
    "We can again conclude that the best match with Human-SARS-CoV-2 is Bat-CoV RaTG13. \n",
    "Regarding to homologous-gene we can guess that Human-SARS-CoV-2 orfs translate to that proteins.\n",
    "In those two cases where Human-SARS-CoV-2 matches the same with Bat-CoV RaTG13 and Pangolin-CoV MP789, \n",
    "the proteins are the same or similar in both cases.\n",
    "So that may indicate that also Bat-CoV RaTG13 and Pangolin-CoV MP789 are close viruses. \n",
    "We can also see this in dendrogram above.\n",
    "\"\"\""
   ]
  },
  {
   "cell_type": "code",
   "execution_count": 91,
   "metadata": {},
   "outputs": [
    {
     "name": "stdout",
     "output_type": "stream",
     "text": [
      "0.9899193548387096\n",
      "0.9924812030075187\n",
      "0.9948096885813149\n",
      "0.993103448275862\n",
      "0.9746376811594203\n"
     ]
    }
   ],
   "source": [
    "print(491 / len(proteins[0]))\n",
    "print(132 / len(proteins[1]))\n",
    "print(575 / len(proteins[2]))\n",
    "print(1440 / len(proteins[3]))\n",
    "print(269 / len(proteins[4]))\n"
   ]
  },
  {
   "cell_type": "markdown",
   "metadata": {},
   "source": [
    "## Problem 4b - Bonus problem\n",
    "\n",
    "In the previous problem, we saw that we were able to find very good matches for each of our ORFs. This is because our reference genomes were very closely related to SARS-CoV-2 (refer to the phylogenetic tree from problem 2). In this exercise, we will check if we can still recover the ORF identities, the same as in Problem 4, using three less-related reference genomes: Human-MERS, Bat-CoV HKU5, and Hedgehog-CoV 2012-174/GER/2012. Report your predictions in the `orf_bonus_matches` variable. Additionally, you should report how confident you are in each prediction. Use your creativity to score your confidence in each alignment. Write your justifications and other observations to the `orf_bonus_comments` variable.\n",
    "**[5 points]**"
   ]
  },
  {
   "cell_type": "code",
   "execution_count": 92,
   "metadata": {},
   "outputs": [],
   "source": [
    "reference_genomes = [\n",
    "    \"Human-MERS\",\n",
    "    \"Bat-CoV HKU5\",\n",
    "    \"Hedgehog-CoV 2012-174/GER/2012\",\n",
    "]\n",
    "query = \"Human-SARS-CoV-2\""
   ]
  },
  {
   "cell_type": "code",
   "execution_count": 47,
   "metadata": {
    "jupyter": {
     "source_hidden": true
    }
   },
   "outputs": [],
   "source": [
    "reference_proteins = {\"Human-MERS\": [],\n",
    "                      \"Bat-CoV HKU5\": [],\n",
    "                      \"Hedgehog-CoV 2012-174/GER/2012\": []\n",
    "                     }\n",
    "\n",
    "for virus in reference_genomes:\n",
    "    organism_id = accession_codes[virus]\n",
    "    with open('data/{}.pkl.gz'.format(organism_id), 'rb') as f:\n",
    "        rec = pickle.load(f)\n",
    "        \n",
    "        # Finding all proteins in a base\n",
    "        for r in rec.features:\n",
    "            # look through the gene coding regions (CDS)\n",
    "            if r.type == \"CDS\":\n",
    "                try:   \n",
    "                    name = (r.qualifiers.get(\"product\")[0])\n",
    "                    protein_seq = (r.qualifiers.get(\"translation\")[0])\n",
    "                    reference_proteins[virus].append((name, protein_seq))\n",
    "                except:\n",
    "                    continue"
   ]
  },
  {
   "cell_type": "code",
   "execution_count": 94,
   "metadata": {
    "collapsed": true,
    "jupyter": {
     "outputs_hidden": true,
     "source_hidden": true
    }
   },
   "outputs": [
    {
     "name": "stdout",
     "output_type": "stream",
     "text": [
      "1\n",
      "2\n",
      "3\n",
      "4\n",
      "5\n"
     ]
    }
   ],
   "source": [
    "# 5 ORFS : 3 viruses all proteins...\n",
    "\n",
    "g = open(\"bonus.txt\", \"w\")\n",
    "for ORF_nr in range(len(proteins)):\n",
    "    print(ORF_nr + 1)\n",
    "    g.write(\" --- \" + \"\\n\")\n",
    "    for key in reference_proteins:\n",
    "        for j in range(len(reference_proteins[key])):\n",
    "            # name\n",
    "            # reference_proteins[key][j][0]\n",
    "            # protein\n",
    "            # reference_proteins[key][j][1]\n",
    "\n",
    "            seq1 = proteins[ORF_nr]\n",
    "            seq2 = reference_proteins[key][j][1]\n",
    "\n",
    "            # Local alignment\n",
    "            align1, align2, score =  local_alignment(seq1, seq2, Blosum62)\n",
    "\n",
    "            # Hamming distance\n",
    "            distance = ReversedHammingDistance(align1, align2)\n",
    "\n",
    "            # Write down the viruses names and their distance\n",
    "            g.write(\"ORF -\" + str(ORF_nr + 1) + \" -- : \" + str(key) + \" : \" + str(reference_proteins[key][j][0]) + \"\\n\")\n",
    "            g.write(\"distance: \" + str(distance) + \"\\n\") \n",
    "            g.write(\"align len: \" + str(len(align1)) + \"\\n\")\n",
    "            \n",
    "            confidence1 = distance / len(align1)\n",
    "            g.write(\"conf1: \" + str(confidence1) + \"\\n\")\n",
    "         \n",
    "            confidence2 = distance / len(seq1)\n",
    "            g.write(\"conf2: \" + str(confidence2) + \"\\n\")    \n",
    "            g.write(\"\\n\")\n",
    "            \n",
    "g.close()"
   ]
  },
  {
   "cell_type": "code",
   "execution_count": 96,
   "metadata": {},
   "outputs": [],
   "source": [
    "orf_bonus_matches = {\n",
    "    # CONFIDENCE : not confident: 1 -- 5 : completely confident\n",
    "    \n",
    "    \"ORF-1\": {\n",
    "        \"closest-organism\": \"Hedgehog-CoV 2012-174/GER/2012\", \n",
    "        \"homologous-gene\": \"ORF1ab polyprotein\",\n",
    "        \"confidence\": 3  \n",
    "    },\n",
    "    \"ORF-2\": {\n",
    "        \"closest-organism\": \"Hedgehog-CoV 2012-174/GER/2012\",\n",
    "        \"homologous-gene\": \"membrane protein\",\n",
    "        \"confidence\": 3\n",
    "        # I could also choose [Human-MERS : membrane protein] with the same confidence level. \n",
    "        # Confidence1 and confidence2 are equal. Also, both the same protein\n",
    "    },\n",
    "    \"ORF-3\": {\n",
    "        \"closest-organism\": \"Bat-CoV HKU5\",\n",
    "        \"homologous-gene\": \"spike glycoprotein\",\n",
    "        \"confidence\": 3\n",
    "        # I could also choose [Human-MERS : spike protein] with the same confidence level. \n",
    "        # Confidence1 and confidence2 are similar. Also, both similar protein.\n",
    "    },\n",
    "    \"ORF-4\": {\n",
    "        \"closest-organism\": \"Hedgehog-CoV 2012-174/GER/2012\",\n",
    "        \"homologous-gene\": \"ORF1ab polyprotein\",\n",
    "        \"confidence\": 3\n",
    "    },\n",
    "    \"ORF-5\": {\n",
    "        \"closest-organism\": \"Bat-CoV HKU5\",\n",
    "        \"homologous-gene\": \"ORF1ab polyprotein\",\n",
    "        \"confidence\": 2\n",
    "    },\n",
    "}\n",
    "orf_bonus_comments = \"\"\"\n",
    "In this case, where we are comparing Human-SARS-CoV-2 to three less-related reference genomes, just the number of matches could lead us to wrong conclusion. \n",
    "It is better to take a look at how many percentage is the number of matches against align length. \n",
    "For example, the match score 10 from align of length 15 is better than the match score 20 from align of length 100, \n",
    "even though the score 20 is better than score 10.\n",
    "So, here we choose to take a look at the number between 0 and 1 (percentage) we got from \"distance / len(align)\", denoted as \"confidence1\" in bonus.txt. \n",
    "But even with these percentage we need to be careful. The match 10 of alignment len 10 would mean percfect match but only in a local sequence and not in whole orf sequence.\n",
    "\n",
    "What we do first is to choose the virus and a protein name only by observing \"confidence1\" score. Then we check if the length of alignment and orf length are close enough to \n",
    "confirm that \"confidence1\" is a regular score. We dont want our alignment sequence to be very small. \n",
    "So we look at percentage \"confidence1\", then length of alignment and also \"confidence2\".\n",
    "In other words, we compare \"confidence1\" and \"confidence2\" score. If they are close, we can take the virus and protein as \n",
    "an apropriate answer to out problem and write them into dictionary. If not, we do the same with second best \"confidence1\" score.\n",
    "\n",
    "---------------------------------------------\n",
    "We determine the confidence level as:\n",
    "\n",
    "0 - 0.19 => 1\n",
    "0.2 - 0.39 => 2\n",
    "0.4 - 0.59 => 3\n",
    "0.6 - 0.79 => 4\n",
    "0.8 - 1 => 5\n",
    "\n",
    "---------------------------------------------\n",
    "\n",
    "We can see that Human-SARS-CoV-2 has best (the most) matches with Hedgehog-CoV 2012-174/GER/2012 (in all cases with confidence ranked as 3), \n",
    "which we can also check on the dendrogram above.\n",
    "Viruses are not as close as in the previous task, so it is quite abvious that confidence levels are not larger than the medium score (3).\n",
    "Also, for Bat-CoV HKU5 and Human-MERS, the confidence percentage is lower than for Hedgehog-CoV 2012-174/GER/2012, Bat-CoV HKU5 even got \n",
    "lower confidence score (2). This is also visible on the dendogram.\n",
    "\"\"\""
   ]
  },
  {
   "cell_type": "code",
   "execution_count": 97,
   "metadata": {
    "collapsed": true,
    "jupyter": {
     "outputs_hidden": true,
     "source_hidden": true
    }
   },
   "outputs": [
    {
     "name": "stdout",
     "output_type": "stream",
     "text": [
      "496\n",
      "133\n",
      "578\n",
      "1450\n",
      "276\n"
     ]
    }
   ],
   "source": [
    "print(len(proteins[0]))\n",
    "print(len(proteins[1]))\n",
    "print(len(proteins[2]))\n",
    "print(len(proteins[3]))\n",
    "print(len(proteins[4]))\n"
   ]
  }
 ],
 "metadata": {
  "kernelspec": {
   "display_name": "Python 3",
   "language": "python",
   "name": "python3"
  },
  "language_info": {
   "codemirror_mode": {
    "name": "ipython",
    "version": 3
   },
   "file_extension": ".py",
   "mimetype": "text/x-python",
   "name": "python",
   "nbconvert_exporter": "python",
   "pygments_lexer": "ipython3",
   "version": "3.7.1"
  }
 },
 "nbformat": 4,
 "nbformat_minor": 4
}
